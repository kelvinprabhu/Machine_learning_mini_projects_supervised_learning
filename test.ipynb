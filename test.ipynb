{
 "cells": [
  {
   "cell_type": "code",
   "execution_count": 60,
   "metadata": {},
   "outputs": [],
   "source": [
    "import pandas as pd\n",
    "import numpy as np\n"
   ]
  },
  {
   "cell_type": "code",
   "execution_count": 61,
   "metadata": {},
   "outputs": [
    {
     "name": "stdout",
     "output_type": "stream",
     "text": [
      "Requirement already satisfied: pymongo in c:\\users\\kelvi\\anaconda3\\lib\\site-packages (4.8.0)Note: you may need to restart the kernel to use updated packages.\n",
      "\n",
      "Requirement already satisfied: dnspython<3.0.0,>=1.16.0 in c:\\users\\kelvi\\anaconda3\\lib\\site-packages (from pymongo) (2.6.1)\n"
     ]
    }
   ],
   "source": [
    "%pip install pymongo"
   ]
  },
  {
   "cell_type": "code",
   "execution_count": 62,
   "metadata": {},
   "outputs": [],
   "source": [
    "import pymongo\n",
    "from pymongo import MongoClient\n",
    "MongoClient = MongoClient('localhost',27017)\n",
    "db = MongoClient['player_performance']\n"
   ]
  },
  {
   "cell_type": "code",
   "execution_count": 63,
   "metadata": {},
   "outputs": [],
   "source": [
    "collections = db.list_collection_names()"
   ]
  },
  {
   "cell_type": "code",
   "execution_count": 64,
   "metadata": {},
   "outputs": [],
   "source": [
    "import json\n",
    "from bson.json_util import dumps\n"
   ]
  },
  {
   "cell_type": "code",
   "execution_count": 101,
   "metadata": {},
   "outputs": [],
   "source": [
    "data = {}\n",
    "\n",
    "for col_name in collections:\n",
    "    col = db[col_name] \n",
    "    if col not in ['player_carreir_15_22_female','player_carreir_15_22'] :\n",
    "        data[col_name] = pd.DataFrame(list(col.find()) , columns=['age','height_cm','weight_kg'\n",
    "        'player_positions', 'overall', 'potential', 'value_eur', 'wage_eur',\n",
    "        'rcb', 'rb', 'gk', 'player_face_url', 'goalkeeping_speed',\n",
    "        'club_loaned_from'])\n",
    "    else:\n",
    "        data[col_name] = pd.DataFrame(list(col.find()) )\n",
    "\n",
    "\n",
    "\n"
   ]
  },
  {
   "cell_type": "code",
   "execution_count": null,
   "metadata": {},
   "outputs": [],
   "source": []
  },
  {
   "cell_type": "code",
   "execution_count": 93,
   "metadata": {},
   "outputs": [
    {
     "data": {
      "text/plain": [
       "['fifa_2022_female',\n",
       " 'fifa_2016',\n",
       " 'fifa_2020',\n",
       " 'fifa_2021_female',\n",
       " 'fifa_2020_female',\n",
       " 'fifa_2018_female',\n",
       " 'fifa_2017',\n",
       " 'fifa_2019_female',\n",
       " 'fifa_2017_female',\n",
       " 'fifa_2019',\n",
       " 'fifa_2015',\n",
       " 'fifa_2016_female',\n",
       " 'player_carreir_15_22',\n",
       " 'fifa_2022',\n",
       " 'fifa_2021',\n",
       " 'player_carreir_15_22_female',\n",
       " 'fifa_2018']"
      ]
     },
     "execution_count": 93,
     "metadata": {},
     "output_type": "execute_result"
    }
   ],
   "source": [
    "collections"
   ]
  },
  {
   "cell_type": "code",
   "execution_count": 104,
   "metadata": {},
   "outputs": [
    {
     "data": {
      "text/plain": [
       "Index(['age', 'height_cm', 'weight_kgplayer_positions', 'overall', 'potential',\n",
       "       'value_eur', 'wage_eur', 'rcb', 'rb', 'gk', 'player_face_url',\n",
       "       'goalkeeping_speed', 'club_loaned_from'],\n",
       "      dtype='object')"
      ]
     },
     "execution_count": 104,
     "metadata": {},
     "output_type": "execute_result"
    }
   ],
   "source": [
    "df_carreir = data['player_carreir_15_22']\n",
    "df_carreir.columns\n"
   ]
  },
  {
   "cell_type": "code",
   "execution_count": 86,
   "metadata": {},
   "outputs": [
    {
     "name": "stdout",
     "output_type": "stream",
     "text": [
      "<class 'pandas.core.frame.DataFrame'>\n",
      "RangeIndex: 19239 entries, 0 to 19238\n",
      "Columns: 111 entries, _id to club_loaned_from\n",
      "dtypes: datetime64[ns](2), float64(16), int64(44), object(49)\n",
      "memory usage: 16.3+ MB\n"
     ]
    }
   ],
   "source": [
    "df_22 = data['fifa_2022']"
   ]
  },
  {
   "cell_type": "code",
   "execution_count": 87,
   "metadata": {},
   "outputs": [
    {
     "data": {
      "text/plain": [
       "Index(['_id', 'sofifa_id', 'player_url', 'short_name', 'long_name',\n",
       "       'player_positions', 'overall', 'potential', 'value_eur', 'wage_eur',\n",
       "       ...\n",
       "       'rcb', 'rb', 'gk', 'player_face_url', 'club_logo_url', 'club_flag_url',\n",
       "       'nation_logo_url', 'nation_flag_url', 'goalkeeping_speed',\n",
       "       'club_loaned_from'],\n",
       "      dtype='object', length=111)"
      ]
     },
     "execution_count": 87,
     "metadata": {},
     "output_type": "execute_result"
    }
   ],
   "source": [
    "# df_22.duplicated()\n",
    "df_22.columns\n"
   ]
  },
  {
   "cell_type": "code",
   "execution_count": 74,
   "metadata": {},
   "outputs": [],
   "source": [
    "df_22.drop_duplicates(inplace = True)"
   ]
  },
  {
   "cell_type": "code",
   "execution_count": 77,
   "metadata": {},
   "outputs": [],
   "source": [
    "df_22=df_22.fillna(df_22.mean)"
   ]
  },
  {
   "cell_type": "code",
   "execution_count": 14,
   "metadata": {},
   "outputs": [
    {
     "name": "stderr",
     "output_type": "stream",
     "text": [
      "<>:7: SyntaxWarning: invalid escape sequence '\\p'\n",
      "<>:7: SyntaxWarning: invalid escape sequence '\\p'\n",
      "C:\\Users\\kelvi\\AppData\\Local\\Temp\\ipykernel_29072\\1464177412.py:7: SyntaxWarning: invalid escape sequence '\\p'\n",
      "  df = pd.read_csv('dataset_fifa\\players_22.csv')\n",
      "C:\\Users\\kelvi\\AppData\\Local\\Temp\\ipykernel_29072\\1464177412.py:7: DtypeWarning: Columns (25,108) have mixed types. Specify dtype option on import or set low_memory=False.\n",
      "  df = pd.read_csv('dataset_fifa\\players_22.csv')\n"
     ]
    }
   ],
   "source": [
    "import pandas as pd\n",
    "import numpy as np\n",
    "from sklearn.model_selection import train_test_split\n",
    "from sklearn.ensemble import RandomForestClassifier\n",
    "\n",
    "# Example dataset structure (replace with your actual dataset)\n",
    "df = pd.read_csv('dataset_fifa\\players_22.csv')\n",
    "\n",
    "# Key player attributes for model\n",
    "attributes = ['pace', 'shooting', 'passing', 'dribbling', 'defending', 'physic', 'overall', 'age', 'height_cm', 'weight_kg']\n",
    "\n",
    "# Create a function to aggregate team stats\n",
    "def aggregate_team_stats(team_players):\n",
    "    return team_players[attributes].mean()\n",
    "\n",
    "# Example: Generate training data\n",
    "def generate_match_data(df, num_matches=3000):\n",
    "    match_data = []\n",
    "    match_labels = []\n",
    "    \n",
    "    for _ in range(num_matches):\n",
    "        # Randomly select 11 players for Team A and Team B\n",
    "        team_a_players = df.sample(n=11)\n",
    "        team_b_players = df.sample(n=11)\n",
    "        \n",
    "        # Aggregate key player statistics for both teams\n",
    "        team_a_stats = aggregate_team_stats(team_a_players).add_suffix('_a')\n",
    "        team_b_stats = aggregate_team_stats(team_b_players).add_suffix('_b')\n",
    "        \n",
    "        # Combine both teams' stats into a single row\n",
    "        match_features = pd.concat([team_a_stats, team_b_stats], axis=0)\n",
    "        \n",
    "        # Randomly assign a \"winner\" (for training purposes)\n",
    "        winner = np.random.choice([0, 1])  \n",
    "        \n",
    "        # Append to match data and labels\n",
    "        match_data.append(match_features)\n",
    "        match_labels.append(winner)\n",
    "    \n",
    "    return pd.DataFrame(match_data), match_labels\n",
    "\n",
    "# Generate match data\n",
    "X, y = generate_match_data(df)\n",
    "\n",
    "# Train-test split\n",
    "X_train, X_test, y_train, y_test = train_test_split(X, y, test_size=0.2, random_state=42)\n"
   ]
  },
  {
   "cell_type": "code",
   "execution_count": 22,
   "metadata": {},
   "outputs": [
    {
     "data": {
      "text/html": [
       "<div>\n",
       "<style scoped>\n",
       "    .dataframe tbody tr th:only-of-type {\n",
       "        vertical-align: middle;\n",
       "    }\n",
       "\n",
       "    .dataframe tbody tr th {\n",
       "        vertical-align: top;\n",
       "    }\n",
       "\n",
       "    .dataframe thead th {\n",
       "        text-align: right;\n",
       "    }\n",
       "</style>\n",
       "<table border=\"1\" class=\"dataframe\">\n",
       "  <thead>\n",
       "    <tr style=\"text-align: right;\">\n",
       "      <th></th>\n",
       "      <th>pace_a</th>\n",
       "      <th>shooting_a</th>\n",
       "      <th>passing_a</th>\n",
       "      <th>dribbling_a</th>\n",
       "      <th>defending_a</th>\n",
       "      <th>physic_a</th>\n",
       "      <th>overall_a</th>\n",
       "      <th>age_a</th>\n",
       "      <th>height_cm_a</th>\n",
       "      <th>weight_kg_a</th>\n",
       "      <th>pace_b</th>\n",
       "      <th>shooting_b</th>\n",
       "      <th>passing_b</th>\n",
       "      <th>dribbling_b</th>\n",
       "      <th>defending_b</th>\n",
       "      <th>physic_b</th>\n",
       "      <th>overall_b</th>\n",
       "      <th>age_b</th>\n",
       "      <th>height_cm_b</th>\n",
       "      <th>weight_kg_b</th>\n",
       "    </tr>\n",
       "  </thead>\n",
       "  <tbody>\n",
       "    <tr>\n",
       "      <th>0</th>\n",
       "      <td>70.800000</td>\n",
       "      <td>51.900000</td>\n",
       "      <td>52.800000</td>\n",
       "      <td>59.400000</td>\n",
       "      <td>46.500000</td>\n",
       "      <td>60.600000</td>\n",
       "      <td>63.000000</td>\n",
       "      <td>23.272727</td>\n",
       "      <td>180.545455</td>\n",
       "      <td>75.727273</td>\n",
       "      <td>69.111111</td>\n",
       "      <td>47.000000</td>\n",
       "      <td>57.222222</td>\n",
       "      <td>60.888889</td>\n",
       "      <td>58.444444</td>\n",
       "      <td>69.444444</td>\n",
       "      <td>65.363636</td>\n",
       "      <td>25.090909</td>\n",
       "      <td>181.272727</td>\n",
       "      <td>76.272727</td>\n",
       "    </tr>\n",
       "    <tr>\n",
       "      <th>1</th>\n",
       "      <td>69.750000</td>\n",
       "      <td>54.750000</td>\n",
       "      <td>60.125000</td>\n",
       "      <td>64.875000</td>\n",
       "      <td>48.750000</td>\n",
       "      <td>68.875000</td>\n",
       "      <td>67.181818</td>\n",
       "      <td>26.090909</td>\n",
       "      <td>182.636364</td>\n",
       "      <td>76.181818</td>\n",
       "      <td>68.454545</td>\n",
       "      <td>56.454545</td>\n",
       "      <td>59.090909</td>\n",
       "      <td>64.909091</td>\n",
       "      <td>52.181818</td>\n",
       "      <td>66.545455</td>\n",
       "      <td>68.090909</td>\n",
       "      <td>26.181818</td>\n",
       "      <td>180.818182</td>\n",
       "      <td>74.545455</td>\n",
       "    </tr>\n",
       "    <tr>\n",
       "      <th>2</th>\n",
       "      <td>70.545455</td>\n",
       "      <td>58.000000</td>\n",
       "      <td>63.636364</td>\n",
       "      <td>68.272727</td>\n",
       "      <td>53.272727</td>\n",
       "      <td>67.000000</td>\n",
       "      <td>69.181818</td>\n",
       "      <td>24.909091</td>\n",
       "      <td>179.545455</td>\n",
       "      <td>73.272727</td>\n",
       "      <td>64.900000</td>\n",
       "      <td>49.600000</td>\n",
       "      <td>54.700000</td>\n",
       "      <td>60.200000</td>\n",
       "      <td>51.500000</td>\n",
       "      <td>64.600000</td>\n",
       "      <td>65.000000</td>\n",
       "      <td>26.272727</td>\n",
       "      <td>181.181818</td>\n",
       "      <td>77.363636</td>\n",
       "    </tr>\n",
       "    <tr>\n",
       "      <th>3</th>\n",
       "      <td>69.545455</td>\n",
       "      <td>52.454545</td>\n",
       "      <td>54.454545</td>\n",
       "      <td>61.545455</td>\n",
       "      <td>51.727273</td>\n",
       "      <td>65.909091</td>\n",
       "      <td>64.000000</td>\n",
       "      <td>24.818182</td>\n",
       "      <td>178.545455</td>\n",
       "      <td>74.000000</td>\n",
       "      <td>73.700000</td>\n",
       "      <td>51.200000</td>\n",
       "      <td>56.500000</td>\n",
       "      <td>63.000000</td>\n",
       "      <td>55.400000</td>\n",
       "      <td>64.500000</td>\n",
       "      <td>65.636364</td>\n",
       "      <td>24.545455</td>\n",
       "      <td>180.454545</td>\n",
       "      <td>73.727273</td>\n",
       "    </tr>\n",
       "    <tr>\n",
       "      <th>4</th>\n",
       "      <td>65.818182</td>\n",
       "      <td>51.363636</td>\n",
       "      <td>53.000000</td>\n",
       "      <td>59.727273</td>\n",
       "      <td>48.000000</td>\n",
       "      <td>62.909091</td>\n",
       "      <td>64.000000</td>\n",
       "      <td>23.818182</td>\n",
       "      <td>183.727273</td>\n",
       "      <td>74.363636</td>\n",
       "      <td>69.090909</td>\n",
       "      <td>53.909091</td>\n",
       "      <td>51.454545</td>\n",
       "      <td>61.545455</td>\n",
       "      <td>39.545455</td>\n",
       "      <td>62.636364</td>\n",
       "      <td>63.636364</td>\n",
       "      <td>23.727273</td>\n",
       "      <td>184.909091</td>\n",
       "      <td>74.363636</td>\n",
       "    </tr>\n",
       "  </tbody>\n",
       "</table>\n",
       "</div>"
      ],
      "text/plain": [
       "      pace_a  shooting_a  passing_a  dribbling_a  defending_a   physic_a  \\\n",
       "0  70.800000   51.900000  52.800000    59.400000    46.500000  60.600000   \n",
       "1  69.750000   54.750000  60.125000    64.875000    48.750000  68.875000   \n",
       "2  70.545455   58.000000  63.636364    68.272727    53.272727  67.000000   \n",
       "3  69.545455   52.454545  54.454545    61.545455    51.727273  65.909091   \n",
       "4  65.818182   51.363636  53.000000    59.727273    48.000000  62.909091   \n",
       "\n",
       "   overall_a      age_a  height_cm_a  weight_kg_a     pace_b  shooting_b  \\\n",
       "0  63.000000  23.272727   180.545455    75.727273  69.111111   47.000000   \n",
       "1  67.181818  26.090909   182.636364    76.181818  68.454545   56.454545   \n",
       "2  69.181818  24.909091   179.545455    73.272727  64.900000   49.600000   \n",
       "3  64.000000  24.818182   178.545455    74.000000  73.700000   51.200000   \n",
       "4  64.000000  23.818182   183.727273    74.363636  69.090909   53.909091   \n",
       "\n",
       "   passing_b  dribbling_b  defending_b   physic_b  overall_b      age_b  \\\n",
       "0  57.222222    60.888889    58.444444  69.444444  65.363636  25.090909   \n",
       "1  59.090909    64.909091    52.181818  66.545455  68.090909  26.181818   \n",
       "2  54.700000    60.200000    51.500000  64.600000  65.000000  26.272727   \n",
       "3  56.500000    63.000000    55.400000  64.500000  65.636364  24.545455   \n",
       "4  51.454545    61.545455    39.545455  62.636364  63.636364  23.727273   \n",
       "\n",
       "   height_cm_b  weight_kg_b  \n",
       "0   181.272727    76.272727  \n",
       "1   180.818182    74.545455  \n",
       "2   181.181818    77.363636  \n",
       "3   180.454545    73.727273  \n",
       "4   184.909091    74.363636  "
      ]
     },
     "execution_count": 22,
     "metadata": {},
     "output_type": "execute_result"
    }
   ],
   "source": [
    "X.head()\n"
   ]
  },
  {
   "cell_type": "code",
   "execution_count": 15,
   "metadata": {},
   "outputs": [
    {
     "name": "stdout",
     "output_type": "stream",
     "text": [
      "Model accuracy: 0.49\n"
     ]
    }
   ],
   "source": [
    "\n",
    "# Key player attributes for model\n",
    "# Train a Random Forest classifier\n",
    "model = RandomForestClassifier(n_estimators=100, random_state=42)\n",
    "model.fit(X_train, y_train)\n",
    "\n",
    "# Evaluate the model\n",
    "accuracy = model.score(X_test, y_test)\n",
    "print(f'Model accuracy: {accuracy:.2f}')\n",
    "\n"
   ]
  },
  {
   "cell_type": "code",
   "execution_count": 8,
   "metadata": {},
   "outputs": [
    {
     "data": {
      "text/plain": [
       "[158023,\n",
       " 188545,\n",
       " 20801,\n",
       " 190871,\n",
       " 192985,\n",
       " 200389,\n",
       " 231747,\n",
       " 167495,\n",
       " 192448,\n",
       " 202126,\n",
       " 215914]"
      ]
     },
     "execution_count": 8,
     "metadata": {},
     "output_type": "execute_result"
    }
   ],
   "source": [
    "list(df['sofifa_id'].head(11))"
   ]
  },
  {
   "cell_type": "code",
   "execution_count": 21,
   "metadata": {},
   "outputs": [
    {
     "name": "stdout",
     "output_type": "stream",
     "text": [
      "Team B is predicted to dominate!\n"
     ]
    }
   ],
   "source": [
    "# Assume user has selected 11 players for each team\n",
    "team_a_players = df[df['sofifa_id'].isin(list(df['sofifa_id'].sample(11)))]  # Replace with actual IDs\n",
    "team_b_players = df[df['sofifa_id'].isin(list(df['sofifa_id'].sample(11)))]  # Replace with actual IDs\n",
    "\n",
    "# Aggregate stats for both teams\n",
    "team_a_stats = aggregate_team_stats(team_a_players).add_suffix('_a')\n",
    "team_b_stats = aggregate_team_stats(team_b_players).add_suffix('_b')\n",
    "\n",
    "# Combine both teams' stats into a single row\n",
    "match_features = pd.concat([team_a_stats, team_b_stats], axis=0).to_frame().T\n",
    "\n",
    "# Make a prediction\n",
    "prediction = model.predict(match_features)\n",
    "if prediction == 0:\n",
    "    print(\"Team A is predicted to dominate!\")\n",
    "else:\n",
    "    print(\"Team B is predicted to dominate!\")\n"
   ]
  },
  {
   "cell_type": "code",
   "execution_count": 11,
   "metadata": {},
   "outputs": [],
   "source": [
    "# attributes = ['pace', 'shooting', 'passing', 'dribbling', 'defending', 'physic', 'overall', 'age', 'height_cm', 'weight_kg']\n",
    "\n",
    "# # Assume user has selected 11 players per team (Team A and Team B)\n",
    "\n",
    "\n",
    "# # Aggregate key player statistics for both teams\n",
    "# team_a_stats = team_a_players[attributes].mean().add_suffix('_a')\n",
    "# team_b_stats = team_b_players[attributes].mean().add_suffix('_b')\n",
    "\n",
    "# # Combine both teams' stats into a single row\n",
    "# match_features = pd.concat([team_a_stats, team_b_stats], axis=0).to_frame().T"
   ]
  },
  {
   "cell_type": "code",
   "execution_count": 12,
   "metadata": {},
   "outputs": [
    {
     "name": "stdout",
     "output_type": "stream",
     "text": [
      "   pace_a  shooting_a  passing_a  dribbling_a  defending_a  physic_a  \\\n",
      "0   82.75        86.5     83.375         88.5       47.875     75.75   \n",
      "\n",
      "   overall_a      age_a  height_cm_a  weight_kg_a  pace_b  shooting_b  \\\n",
      "0  90.909091  30.181818   182.181818    79.181818    62.1        39.6   \n",
      "\n",
      "   passing_b  dribbling_b  defending_b  physic_b  overall_b      age_b  \\\n",
      "0       43.6         47.6         33.8      45.7       47.0  19.454545   \n",
      "\n",
      "   height_cm_b  weight_kg_b  \n",
      "0        174.0         68.0  \n"
     ]
    }
   ],
   "source": [
    "# # Combine both teams' stats into a single row (one match)\n",
    "# # match_features = pd.concat([team_a_stats, team_b_stats], axis=0)\n",
    "\n",
    "# # # Ensure match_features is in the form of a DataFrame (with one row)\n",
    "# # match_features = pd.DataFrame([match_features])\n",
    "# # \n",
    "# # Display the resulting match features\n",
    "# print(match_features)"
   ]
  },
  {
   "cell_type": "code",
   "execution_count": null,
   "metadata": {},
   "outputs": [],
   "source": [
    "# # Load historical match data for training\n",
    "# historical_data = pd.read_csv('historical_matches.csv')  # Assume you have this\n",
    "\n",
    "# # Prepare the training dataset (features and target)\n",
    "# X = historical_data.drop(columns=['team_a_wins'])  # Drop target column\n",
    "# y = historical_data['team_a_wins']  # 1 if Team A wins, 0 otherwise\n",
    "\n",
    "# # Split data into training and testing sets\n",
    "# X_train, X_test, y_train, y_test = train_test_split(X, y, test_size=0.2, random_state=42)\n",
    "\n",
    "# # Train the Random Forest classifier\n",
    "# rf_model = RandomForestClassifier(n_estimators=100, random_state=42)\n",
    "# rf_model.fit(X_train, y_train)\n",
    "\n",
    "# # Predict team dominance\n",
    "# team_dominance_prediction = rf_model.predict(match_features)\n",
    "\n",
    "# if team_dominance_prediction == 1:\n",
    "#     print(\"Team A is predicted to dominate.\")\n",
    "# else:\n",
    "#     print(\"Team B is predicted to dominate.\")\n"
   ]
  }
 ],
 "metadata": {
  "kernelspec": {
   "display_name": "base",
   "language": "python",
   "name": "python3"
  },
  "language_info": {
   "codemirror_mode": {
    "name": "ipython",
    "version": 3
   },
   "file_extension": ".py",
   "mimetype": "text/x-python",
   "name": "python",
   "nbconvert_exporter": "python",
   "pygments_lexer": "ipython3",
   "version": "3.12.4"
  }
 },
 "nbformat": 4,
 "nbformat_minor": 2
}
