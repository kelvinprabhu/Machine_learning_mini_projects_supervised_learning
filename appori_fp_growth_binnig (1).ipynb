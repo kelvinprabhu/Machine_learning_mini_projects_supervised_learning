{
 "cells": [
  {
   "cell_type": "code",
   "execution_count": 31,
   "metadata": {},
   "outputs": [
    {
     "name": "stdout",
     "output_type": "stream",
     "text": [
      "       0\n",
      "0   3000\n",
      "1   7000\n",
      "2  10000\n",
      "3  12000\n",
      "4  15000\n"
     ]
    }
   ],
   "source": [
    "import pandas as pd\n",
    "import numpy as np\n",
    "df =[3000, 7000, 10000, 12000, 15000]\n",
    "df = pd.DataFrame(data=df)\n",
    "print(df)"
   ]
  },
  {
   "cell_type": "code",
   "execution_count": 32,
   "metadata": {},
   "outputs": [
    {
     "name": "stdout",
     "output_type": "stream",
     "text": [
      "   step_count   activity range\n",
      "0        3000     Low Activity\n",
      "1        7000  Medium Activity\n",
      "2       10000  Medium Activity\n",
      "3       12000    High Activity\n",
      "4       15000    High Activity\n"
     ]
    }
   ],
   "source": [
    "bins = [0, 5000, 10000, np.inf]\n",
    "labels = ['Low Happiness', 'Medium Happiness', 'High Happiness']\n",
    "df['step_count'] = df[0]\n",
    "df.drop([0],axis=1,inplace=True)\n",
    "df['activity range'] = pd.cut(df['step_count'], bins=bins, labels=labels)\n",
    "print(df)"
   ]
  },
  {
   "cell_type": "code",
   "execution_count": null,
   "metadata": {},
   "outputs": [],
   "source": []
  }
 ],
 "metadata": {
  "kernelspec": {
   "display_name": "Python 3",
   "language": "python",
   "name": "python3"
  },
  "language_info": {
   "codemirror_mode": {
    "name": "ipython",
    "version": 3
   },
   "file_extension": ".py",
   "mimetype": "text/x-python",
   "name": "python",
   "nbconvert_exporter": "python",
   "pygments_lexer": "ipython3",
   "version": "3.12.4"
  }
 },
 "nbformat": 4,
 "nbformat_minor": 2
}
